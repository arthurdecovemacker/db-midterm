{
  "nbformat": 4,
  "nbformat_minor": 0,
  "metadata": {
    "colab": {
      "provenance": [],
      "authorship_tag": "ABX9TyPz2NrPkIpcNQQizG/F231O",
      "include_colab_link": true
    },
    "kernelspec": {
      "name": "python3",
      "display_name": "Python 3"
    },
    "language_info": {
      "name": "python"
    }
  },
  "cells": [
    {
      "cell_type": "markdown",
      "metadata": {
        "id": "view-in-github",
        "colab_type": "text"
      },
      "source": [
        "<a href=\"https://colab.research.google.com/github/arthurdecovemacker/db-midterm/blob/main/Untitled2.ipynb\" target=\"_parent\"><img src=\"https://colab.research.google.com/assets/colab-badge.svg\" alt=\"Open In Colab\"/></a>"
      ]
    },
    {
      "cell_type": "code",
      "execution_count": 1,
      "metadata": {
        "id": "IIuaP4GhP3e4"
      },
      "outputs": [],
      "source": [
        "from sqlalchemy import create_engine\n",
        "my_conn = create_engine(\"sqlite:////content/my_midterm_db\")"
      ]
    },
    {
      "cell_type": "code",
      "source": [
        "conn = my_conn.connect()"
      ],
      "metadata": {
        "id": "79naNqOFP-uO"
      },
      "execution_count": 2,
      "outputs": []
    },
    {
      "cell_type": "code",
      "source": [
        "conn.execute('''CREATE TABLE `Vehicle`(\n",
        "  `ID` VARCHAR NOT NULL,\n",
        "  `Registration-ID` VARCHAR NOT NULL,\n",
        "  `Manufacturer` VARCHAR NOT NULL,\n",
        "  `Model` VARCHAR NOT NULL,\n",
        "  `Color` VARCHAR NOT NULL,\n",
        "  `Current-Odometer` BIGINT,\n",
        "  `Max-passenger-capacity` TINYINT NOT NULL,\n",
        "  `type-of-Repair-Action` CHAR NOT NULL,\n",
        "  PRIMARY KEY(`ID`)\n",
        ");''')"
      ],
      "metadata": {
        "colab": {
          "base_uri": "https://localhost:8080/"
        },
        "id": "WC0GFz_1RLE5",
        "outputId": "8888572d-c362-4f9f-ecb1-618f27d7d234"
      },
      "execution_count": 3,
      "outputs": [
        {
          "output_type": "execute_result",
          "data": {
            "text/plain": [
              "<sqlalchemy.engine.cursor.LegacyCursorResult at 0x7f52f272efd0>"
            ]
          },
          "metadata": {},
          "execution_count": 3
        }
      ]
    },
    {
      "cell_type": "code",
      "source": [
        "conn.execute('''CREATE TABLE `Maintenance`(\n",
        "  `Action-type` CHAR NOT NULL,\n",
        "  `Odometer` BIGINT,\n",
        "  `Cost` INT,\n",
        "  `Action-detail` VARCHAR NOT NULL,\n",
        "  `Date` DATE NOT NULL,\n",
        "  `Vehicle-ID` VARCHAR NOT NULL,\n",
        "  PRIMARY KEY(`Action-type`)\n",
        "); ''')"
      ],
      "metadata": {
        "colab": {
          "base_uri": "https://localhost:8080/"
        },
        "id": "szrYYfb1RRhf",
        "outputId": "87531efc-cc3a-4ab0-df8a-1347fc907d09"
      },
      "execution_count": 4,
      "outputs": [
        {
          "output_type": "execute_result",
          "data": {
            "text/plain": [
              "<sqlalchemy.engine.cursor.LegacyCursorResult at 0x7f52f885b750>"
            ]
          },
          "metadata": {},
          "execution_count": 4
        }
      ]
    },
    {
      "cell_type": "code",
      "source": [
        "conn.execute(''' CREATE TABLE `Countries`(\n",
        "`Name` VARCHAR NOT NULL, `Countries-Languages-ID` INT NOT NULL,\n",
        "  PRIMARY KEY(`Name`)\n",
        ");''')"
      ],
      "metadata": {
        "colab": {
          "base_uri": "https://localhost:8080/"
        },
        "id": "5HgTtZs4RcTp",
        "outputId": "527f4463-290d-46b1-cf3f-ce2bd4d59d32"
      },
      "execution_count": 5,
      "outputs": [
        {
          "output_type": "execute_result",
          "data": {
            "text/plain": [
              "<sqlalchemy.engine.cursor.LegacyCursorResult at 0x7f52f274e1d0>"
            ]
          },
          "metadata": {},
          "execution_count": 5
        }
      ]
    },
    {
      "cell_type": "code",
      "source": [
        "conn.execute('''CREATE TABLE `Games-Officials`(\n",
        "  `ID` INT NOT NULL,\n",
        "  `Countries_Name` VARCHAR NOT NULL,\n",
        "  `Based-city-ID` VARCHAR(8) NOT NULL,\n",
        "  `Games-Officials-Name` VARCHAR NOT NULL,\n",
        "  `Games-Officials-Role` VARCHAR NOT NULL,\n",
        "  `Languages-ID` INT NOT NULL,\n",
        "  PRIMARY KEY(`ID`)\n",
        "); ''')"
      ],
      "metadata": {
        "colab": {
          "base_uri": "https://localhost:8080/"
        },
        "id": "ryItDYafRiSo",
        "outputId": "5d52828c-394b-4919-e867-81bba9af9c3d"
      },
      "execution_count": 6,
      "outputs": [
        {
          "output_type": "execute_result",
          "data": {
            "text/plain": [
              "<sqlalchemy.engine.cursor.LegacyCursorResult at 0x7f52f2732c10>"
            ]
          },
          "metadata": {},
          "execution_count": 6
        }
      ]
    },
    {
      "cell_type": "code",
      "source": [
        "conn.execute(''' CREATE TABLE `Driver's-Informations`(\n",
        "  `ID` INT NOT NULL,\n",
        "  `Driver-Name` VARCHAR NOT NULL,\n",
        "  `Driver-License_number` BIGINT(18) NOT NULL,\n",
        "  `Clerence-level` INT NOT NULL,\n",
        "  `SLTVT-Level` INT,\n",
        "  `FATL-Level` INT,\n",
        "  `Languages-ID` INT NOT NULL,\n",
        "  PRIMARY KEY(`ID`)\n",
        ");''')"
      ],
      "metadata": {
        "colab": {
          "base_uri": "https://localhost:8080/"
        },
        "id": "Hbc6DK8FRmMA",
        "outputId": "6fffd560-b457-47a4-c9f9-67f2beef261a"
      },
      "execution_count": 7,
      "outputs": [
        {
          "output_type": "execute_result",
          "data": {
            "text/plain": [
              "<sqlalchemy.engine.cursor.LegacyCursorResult at 0x7f52f2732f90>"
            ]
          },
          "metadata": {},
          "execution_count": 7
        }
      ]
    },
    {
      "cell_type": "code",
      "source": [
        "conn.execute('''CREATE TABLE `FATL`(\n",
        "  `Level` INT,\n",
        "  `Qualification-date` DATE NOT NULL,\n",
        "  `Driver's-informations-ID` INT NOT NULL,\n",
        "  PRIMARY KEY(`Level`)\n",
        "); ''')"
      ],
      "metadata": {
        "colab": {
          "base_uri": "https://localhost:8080/"
        },
        "id": "7jYfqFhDRqpC",
        "outputId": "7db76b78-11a9-4a8d-f37b-9598d618f34c"
      },
      "execution_count": 8,
      "outputs": [
        {
          "output_type": "execute_result",
          "data": {
            "text/plain": [
              "<sqlalchemy.engine.cursor.LegacyCursorResult at 0x7f52f273ad90>"
            ]
          },
          "metadata": {},
          "execution_count": 8
        }
      ]
    },
    {
      "cell_type": "code",
      "source": [
        "conn.execute('''CREATE TABLE `SLTVT`(\n",
        "  `Level` INT,\n",
        "  `Qualification-date` DATE NOT NULL,\n",
        "  `Certifying-autho` VARCHAR NOT NULL,\n",
        "  `Driver's-informations-ID` INT NOT NULL,\n",
        "  PRIMARY KEY(`Level`)\n",
        ");''')"
      ],
      "metadata": {
        "colab": {
          "base_uri": "https://localhost:8080/"
        },
        "id": "mA3a4d_BRwmx",
        "outputId": "06773bb3-de82-4e57-da5f-931ced44fcc3"
      },
      "execution_count": 9,
      "outputs": [
        {
          "output_type": "execute_result",
          "data": {
            "text/plain": [
              "<sqlalchemy.engine.cursor.LegacyCursorResult at 0x7f52f2745f50>"
            ]
          },
          "metadata": {},
          "execution_count": 9
        }
      ]
    },
    {
      "cell_type": "code",
      "source": [
        "conn.execute('''CREATE TABLE `Booking`(\n",
        "  `ID` INT NOT NULL,\n",
        "  `Trip-start` DATETIME NOT NULL,\n",
        "  `Trip-end` DATETIME NOT NULL,\n",
        "  `Odometer-start` BIGINT NOT NULL,\n",
        "  `Odometer-end` BIGINT NOT NULL,\n",
        "  `Games-Officials-ID` INT NOT NULL,\n",
        "  `Driver's-informations-ID` INT NOT NULL,\n",
        "  `Vehicle-ID` VARCHAR NOT NULL,\n",
        "  `Trip-ID` INT NOT NULL,\n",
        "  PRIMARY KEY(`ID`)\n",
        "); ''')"
      ],
      "metadata": {
        "colab": {
          "base_uri": "https://localhost:8080/"
        },
        "id": "mIAnzdehR6Bj",
        "outputId": "0e930896-893a-4ff5-a043-7ab7c8da5155"
      },
      "execution_count": 10,
      "outputs": [
        {
          "output_type": "execute_result",
          "data": {
            "text/plain": [
              "<sqlalchemy.engine.cursor.LegacyCursorResult at 0x7f52f272ef90>"
            ]
          },
          "metadata": {},
          "execution_count": 10
        }
      ]
    },
    {
      "cell_type": "code",
      "source": [
        "conn.execute('''CREATE TABLE `Trip`(\n",
        "  `ID` INT NOT NULL,\n",
        "  `Pick-Up-ID` INT NOT NULL,\n",
        "  `Drop-Off-ID` INT NOT NULL,\n",
        "  PRIMARY KEY(`ID`)\n",
        "); ''')"
      ],
      "metadata": {
        "colab": {
          "base_uri": "https://localhost:8080/"
        },
        "id": "0s_Tx5ZER_bU",
        "outputId": "76d0b689-0b39-4305-f272-be39d819a439"
      },
      "execution_count": 11,
      "outputs": [
        {
          "output_type": "execute_result",
          "data": {
            "text/plain": [
              "<sqlalchemy.engine.cursor.LegacyCursorResult at 0x7f52f2745210>"
            ]
          },
          "metadata": {},
          "execution_count": 11
        }
      ]
    },
    {
      "cell_type": "code",
      "source": [
        "conn.execute(''' CREATE TABLE `Languages`(`ID` INT NOT NULL, PRIMARY KEY(`ID`));''')"
      ],
      "metadata": {
        "colab": {
          "base_uri": "https://localhost:8080/"
        },
        "id": "3AjbPbS1SDF6",
        "outputId": "dce47fa7-30ba-48ca-8f74-4fb4d3eb49ca"
      },
      "execution_count": 12,
      "outputs": [
        {
          "output_type": "execute_result",
          "data": {
            "text/plain": [
              "<sqlalchemy.engine.cursor.LegacyCursorResult at 0x7f52f273a350>"
            ]
          },
          "metadata": {},
          "execution_count": 12
        }
      ]
    },
    {
      "cell_type": "code",
      "source": [
        "conn.execute('''CREATE TABLE `Pick-Up`(\n",
        "  `ID` INT NOT NULL,\n",
        "  `Pick-Up-Adress` VARCHAR NOT NULL,\n",
        "  `Location-Type` VARCHAR NOT NULL,\n",
        "  PRIMARY KEY(`ID`)\n",
        "); ''')"
      ],
      "metadata": {
        "colab": {
          "base_uri": "https://localhost:8080/"
        },
        "id": "AWWoAUpwSOy5",
        "outputId": "ea0e24cf-4c79-41a7-96ad-74f66fec2d6a"
      },
      "execution_count": 13,
      "outputs": [
        {
          "output_type": "execute_result",
          "data": {
            "text/plain": [
              "<sqlalchemy.engine.cursor.LegacyCursorResult at 0x7f52f2732250>"
            ]
          },
          "metadata": {},
          "execution_count": 13
        }
      ]
    },
    {
      "cell_type": "code",
      "source": [
        "conn.execute(''' CREATE TABLE `Drops-Off`(\n",
        "  `ID` INT NOT NULL,\n",
        "  `Drops-Off-Adress` VARCHAR NOT NULL,\n",
        "  `Location-Type` VARCHAR NOT NULL,\n",
        "  PRIMARY KEY(`ID`)\n",
        ");''')"
      ],
      "metadata": {
        "colab": {
          "base_uri": "https://localhost:8080/"
        },
        "id": "wGt6fUNPSUt9",
        "outputId": "22f584c9-c9cf-477f-8c39-20ad43a6d919"
      },
      "execution_count": 14,
      "outputs": [
        {
          "output_type": "execute_result",
          "data": {
            "text/plain": [
              "<sqlalchemy.engine.cursor.LegacyCursorResult at 0x7f52f6d836d0>"
            ]
          },
          "metadata": {},
          "execution_count": 14
        }
      ]
    },
    {
      "cell_type": "code",
      "source": [
        "conn.execute('''INSERT INTO Vehicle ('ID', 'Registration-ID', 'Manufacturer', 'Model', 'Color', 'Current-Odometer', 'Max-passenger-capacity', 'type-of-Repair-Action') VALUES (1000, 2001, 'Volvo', 'XC90 SE', 'Silver', 4350, 4, 'M');''')"
      ],
      "metadata": {
        "colab": {
          "base_uri": "https://localhost:8080/"
        },
        "id": "6zreCmaPSj6R",
        "outputId": "e0d797d2-5c31-4758-b7c9-ba7b70746ff6"
      },
      "execution_count": 21,
      "outputs": [
        {
          "output_type": "execute_result",
          "data": {
            "text/plain": [
              "<sqlalchemy.engine.cursor.LegacyCursorResult at 0x7f5301306590>"
            ]
          },
          "metadata": {},
          "execution_count": 21
        }
      ]
    },
    {
      "cell_type": "code",
      "source": [
        "conn.execute('''INSERT INTO Maintenance ('Action-type', 'Odometer', 'Cost', 'Action-detail', 'Date', 'Vehicle-ID') VALUES ('M', 4350, 300, 'detail', '10/12/23', 1000);''')"
      ],
      "metadata": {
        "colab": {
          "base_uri": "https://localhost:8080/"
        },
        "id": "dNQTpquSdCJS",
        "outputId": "a50473b9-8750-4c5a-b97e-3d2909cbb8d2"
      },
      "execution_count": 22,
      "outputs": [
        {
          "output_type": "execute_result",
          "data": {
            "text/plain": [
              "<sqlalchemy.engine.cursor.LegacyCursorResult at 0x7f52f2646f90>"
            ]
          },
          "metadata": {},
          "execution_count": 22
        }
      ]
    },
    {
      "cell_type": "code",
      "source": [
        "conn.execute('''INSERT INTO Countries ('Name', 'Countries-Languages-ID') VALUES ('FR','FR-01');''')"
      ],
      "metadata": {
        "colab": {
          "base_uri": "https://localhost:8080/"
        },
        "id": "-KQQPTfteWAA",
        "outputId": "1540beda-1a96-4ff5-d586-d9289aae5150"
      },
      "execution_count": 23,
      "outputs": [
        {
          "output_type": "execute_result",
          "data": {
            "text/plain": [
              "<sqlalchemy.engine.cursor.LegacyCursorResult at 0x7f52f26cdad0>"
            ]
          },
          "metadata": {},
          "execution_count": 23
        }
      ]
    },
    {
      "cell_type": "code",
      "source": [
        "conn.execute('''INSERT INTO 'Games-Officials' ('ID', 'Countries_Name', 'Based-city-ID', 'Games-Officials-Name', 'Games-Officials-Role', 'Languages-ID') VALUES (1000, 'France', 'Paris', 'Luke', 'Director', 'FR-01');''')"
      ],
      "metadata": {
        "colab": {
          "base_uri": "https://localhost:8080/"
        },
        "id": "pUuRO8uceyhU",
        "outputId": "910398bd-40f7-4c29-d1e9-ea83a4839452"
      },
      "execution_count": 28,
      "outputs": [
        {
          "output_type": "execute_result",
          "data": {
            "text/plain": [
              "<sqlalchemy.engine.cursor.LegacyCursorResult at 0x7f52f26d6610>"
            ]
          },
          "metadata": {},
          "execution_count": 28
        }
      ]
    },
    {
      "cell_type": "code",
      "source": [
        "conn.execute('''INSERT INTO `Driver's-Informations` ('ID', 'Driver-Name', 'Driver-License_number', 'Clerence-level', 'SLTVT-Level', 'FATL-Level', 'Languages-ID') VALUES (1000, 'Luke', 1300, 3, 4, 5, 'FR-01');''')"
      ],
      "metadata": {
        "colab": {
          "base_uri": "https://localhost:8080/"
        },
        "id": "YCUUzJiggSJq",
        "outputId": "aa549369-52b3-4ccb-c678-ac0e5f6fd375"
      },
      "execution_count": 29,
      "outputs": [
        {
          "output_type": "execute_result",
          "data": {
            "text/plain": [
              "<sqlalchemy.engine.cursor.LegacyCursorResult at 0x7f52f25d3a50>"
            ]
          },
          "metadata": {},
          "execution_count": 29
        }
      ]
    },
    {
      "cell_type": "code",
      "source": [
        "conn.execute('''INSERT INTO FATL ('Level', 'Qualification-date', \"Driver's-informations-ID\") VALUES (3, '2/10/22', 'info');''')"
      ],
      "metadata": {
        "colab": {
          "base_uri": "https://localhost:8080/"
        },
        "id": "pIJk1KXVg-Rh",
        "outputId": "6da6fbd8-631a-4519-f0cc-500fdbb9bc1f"
      },
      "execution_count": 32,
      "outputs": [
        {
          "output_type": "execute_result",
          "data": {
            "text/plain": [
              "<sqlalchemy.engine.cursor.LegacyCursorResult at 0x7f52f26d6890>"
            ]
          },
          "metadata": {},
          "execution_count": 32
        }
      ]
    },
    {
      "cell_type": "code",
      "source": [
        "conn.execute('''INSERT INTO SLTVT ('Level', 'Qualification-date', 'Certifying-autho', \"Driver's-informations-ID\") VALUES (3, '2/10/22', 'CERTIF', 'D3-3');''')"
      ],
      "metadata": {
        "colab": {
          "base_uri": "https://localhost:8080/"
        },
        "id": "SXC0coaFht1A",
        "outputId": "62259ac3-4af0-4cca-8871-fb6452e6da89"
      },
      "execution_count": 33,
      "outputs": [
        {
          "output_type": "execute_result",
          "data": {
            "text/plain": [
              "<sqlalchemy.engine.cursor.LegacyCursorResult at 0x7f52f25d2a50>"
            ]
          },
          "metadata": {},
          "execution_count": 33
        }
      ]
    },
    {
      "cell_type": "code",
      "source": [
        "conn.execute('''INSERT INTO Booking ('ID', 'Trip-start', 'Trip-end', 'Odometer-start', 'Odometer-end', 'Games-Officials-ID', \"Driver's-informations-ID\", 'Vehicle-ID', 'Trip-ID') VALUES ('2120' , '10/12/22', '30/12/22', 4350, 4700, 'id-3345', 1300, '1000', 206344);''')"
      ],
      "metadata": {
        "colab": {
          "base_uri": "https://localhost:8080/"
        },
        "id": "QBmFG-r5iSfT",
        "outputId": "d9e2692b-7754-4c4b-af87-ce1f3448df15"
      },
      "execution_count": 41,
      "outputs": [
        {
          "output_type": "execute_result",
          "data": {
            "text/plain": [
              "<sqlalchemy.engine.cursor.LegacyCursorResult at 0x7f52f26d6510>"
            ]
          },
          "metadata": {},
          "execution_count": 41
        }
      ]
    },
    {
      "cell_type": "code",
      "source": [
        "conn.execute('''INSERT INTO Trip ('ID', 'Pick-Up-ID', 'Drop-Off-ID') VALUES (206344, 3332,  3333);''')"
      ],
      "metadata": {
        "colab": {
          "base_uri": "https://localhost:8080/"
        },
        "id": "UpDoikO_koFE",
        "outputId": "ff6e8057-bfdf-4f61-f44f-e5b1eff7500f"
      },
      "execution_count": 42,
      "outputs": [
        {
          "output_type": "execute_result",
          "data": {
            "text/plain": [
              "<sqlalchemy.engine.cursor.LegacyCursorResult at 0x7f52f2718dd0>"
            ]
          },
          "metadata": {},
          "execution_count": 42
        }
      ]
    },
    {
      "cell_type": "code",
      "source": [
        "conn.execute('''INSERT INTO Languages ('ID') VALUES (206344);''')"
      ],
      "metadata": {
        "colab": {
          "base_uri": "https://localhost:8080/"
        },
        "id": "1Okn5jALlNKx",
        "outputId": "0ea9f784-bda8-4791-f349-c863daf95068"
      },
      "execution_count": 43,
      "outputs": [
        {
          "output_type": "execute_result",
          "data": {
            "text/plain": [
              "<sqlalchemy.engine.cursor.LegacyCursorResult at 0x7f52f2645cd0>"
            ]
          },
          "metadata": {},
          "execution_count": 43
        }
      ]
    },
    {
      "cell_type": "code",
      "source": [
        "conn.execute('''INSERT INTO \"Pick-Up\" ('ID', 'Pick-Up-Adress', 'Location-Type') VALUES (206344, '45 monro street paris',  'house');''')"
      ],
      "metadata": {
        "colab": {
          "base_uri": "https://localhost:8080/"
        },
        "id": "p2DImrRvlW9A",
        "outputId": "3fcf618e-099c-47ac-8827-9f53a959c5ce"
      },
      "execution_count": 46,
      "outputs": [
        {
          "output_type": "execute_result",
          "data": {
            "text/plain": [
              "<sqlalchemy.engine.cursor.LegacyCursorResult at 0x7f52f26d62d0>"
            ]
          },
          "metadata": {},
          "execution_count": 46
        }
      ]
    },
    {
      "cell_type": "code",
      "source": [
        "conn.execute('''INSERT INTO \"Drops-Off\" ('ID', 'Drops-Off-Adress', 'Location-Type') VALUES (206344, '45 monro street paris',  'house');''')"
      ],
      "metadata": {
        "colab": {
          "base_uri": "https://localhost:8080/"
        },
        "id": "8AChNq8jl3cP",
        "outputId": "36f20960-2df1-4ea0-b81b-68e25169ef55"
      },
      "execution_count": 47,
      "outputs": [
        {
          "output_type": "execute_result",
          "data": {
            "text/plain": [
              "<sqlalchemy.engine.cursor.LegacyCursorResult at 0x7f52f262ce90>"
            ]
          },
          "metadata": {},
          "execution_count": 47
        }
      ]
    }
  ]
}